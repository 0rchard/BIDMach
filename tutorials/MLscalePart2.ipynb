{
 "metadata": {
  "name": "",
  "signature": "sha256:69b9d6a6f97cd738b0296ff0c1f498b752385fc323529bcf20b3b7e5bf82eed2"
 },
 "nbformat": 3,
 "nbformat_minor": 0,
 "worksheets": [
  {
   "cells": [
    {
     "cell_type": "heading",
     "level": 1,
     "metadata": {},
     "source": [
      "Machine Learning at Scale, Part II"
     ]
    },
    {
     "cell_type": "markdown",
     "metadata": {},
     "source": [
      "First lets initialize BIDMach again."
     ]
    },
    {
     "cell_type": "code",
     "collapsed": false,
     "input": [
      "import BIDMat.{CMat,CSMat,DMat,Dict,IDict,Image,FMat,FND,GMat,GIMat,GSMat,HMat,IMat,Mat,SMat,SBMat,SDMat}\n",
      "import BIDMat.MatFunctions._\n",
      "import BIDMat.SciFunctions._\n",
      "import BIDMat.Solvers._\n",
      "import BIDMat.Plotting._\n",
      "import BIDMach.Learner\n",
      "import BIDMach.models.{FM,GLM,KMeans,KMeansw,LDA,LDAgibbs,Model,NMF,SFA}\n",
      "import BIDMach.datasources.{DataSource,MatDS,FilesDS,SFilesDS}\n",
      "import BIDMach.mixins.{CosineSim,Perplexity,Top,L1Regularizer,L2Regularizer}\n",
      "import BIDMach.updaters.{ADAGrad,Batch,BatchNorm,IncMult,IncNorm,Telescoping}\n",
      "import BIDMach.causal.{IPTW}\n",
      "\n",
      "Mat.checkMKL\n",
      "Mat.checkCUDA\n",
      "if (Mat.hasCUDA > 0) GPUmem"
     ],
     "language": "python",
     "metadata": {},
     "outputs": [
      {
       "output_type": "stream",
       "stream": "stdout",
       "text": [
        "1 CUDA device found, CUDA version 6.5\n"
       ]
      },
      {
       "output_type": "stream",
       "stream": "stderr",
       "text": []
      },
      {
       "metadata": {},
       "output_type": "pyout",
       "prompt_number": 1,
       "text": [
        "(0.986791,4238041088,4294770688)"
       ]
      }
     ],
     "prompt_number": 1
    },
    {
     "cell_type": "markdown",
     "metadata": {},
     "source": [
      "Check the GPU memory above. It should be close to 1 again (0.98 or greater). If not, check if you have any \"zombie\" java processes from the linux shell with <code>ps -ef | grep java</code>. You will normally have two processes, one for the main IScala shell and one for this notebook. "
     ]
    },
    {
     "cell_type": "heading",
     "level": 2,
     "metadata": {},
     "source": [
      "Sourcing Data from Disk"
     ]
    },
    {
     "cell_type": "markdown",
     "metadata": {},
     "source": [
      "Training models with data that fits in memory is very limiting. But minibatch learners can easily work with data directly from disk. They access data sequentially (which avoids seeking and maximizes disk throughput) and converge in very few passes. We'll look again at the MNIST data set, this time the full version with 8 million images (about 10 GB, and 120x larger than the small MNIST dataset). The dataset has been partition into groups of 100k images (e.g. using the unix split command, or in a cluster) and saved in compressed lz4 files. \n",
      "\n",
      "We're also going to build up a learner in stages. First we're going to define a mixture class to hold all the options."
     ]
    },
    {
     "cell_type": "code",
     "collapsed": false,
     "input": [
      "class xopts extends Learner.Options with FilesDS.Opts with GLM.Opts with ADAGrad.Opts; \n",
      "val mnopts = new xopts"
     ],
     "language": "python",
     "metadata": {},
     "outputs": [
      {
       "output_type": "stream",
       "stream": "stdout",
       "text": []
      },
      {
       "output_type": "stream",
       "stream": "stderr",
       "text": []
      },
      {
       "metadata": {},
       "output_type": "pyout",
       "prompt_number": 2,
       "text": [
        "xopts@40c674ff"
       ]
      }
     ],
     "prompt_number": 2
    },
    {
     "cell_type": "markdown",
     "metadata": {},
     "source": [
      "Next come the options for the data source. There are quite a few of these, but they only need to be set once and apart from the minibatch size, dont need to be tuned. \n",
      "\n",
      "The following options specify various useful traits of the data source. Many of these are default values and dont actually need to be set, but its useful to know what they do. Most options are explained below. \n",
      "\n",
      "The <code>fnames</code> option specifies a **list of functions** that return a filename given an integer. Its a list so you can specify a single datasource that combines data from different files, e.g. data files and target files for regression. The method <code>FilesDS.simpleEnum()</code> takes a format string argument and returns such a function that uses the format string and an integer argument to construct the filename to retrieve. So this source builds data blocks from part00.smat.lz4, part01.smat.lz4,... It stacks the rows of \"cats\" matrices on top of the rows of the \"part\" (data) matrices. "
     ]
    },
    {
     "cell_type": "code",
     "collapsed": false,
     "input": [
      "val mdir = \"../data/MNIST8M/parts/\"\n",
      "mnopts.fnames = List(FilesDS.simpleEnum(mdir+\"data%02d.fmat.lz4\", 1, 0),  // File name templates, %02d is replaced by a number\n",
      "                     FilesDS.simpleEnum(mdir+\"cats%02d.fmat.lz4\", 1, 0));\n",
      "mnopts.nstart = 0;                 // Starting file number\n",
      "mnopts.nend = 70;                  // Ending file number\n",
      "mnopts.order = 0;                  // (0) sample order, 0=linear, 1=random\n",
      "mnopts.lookahead = 2;              // (2) number of prefetch threads\n",
      "mnopts.featType = 1;               // (1) feature type, 0=binary, 1=linear\n",
      "mnopts.addConstFeat = true         // add a constant feature (effectively adds a $\\beta_0$ term to $X\\beta$)"
     ],
     "language": "python",
     "metadata": {},
     "outputs": [
      {
       "output_type": "stream",
       "stream": "stdout",
       "text": []
      },
      {
       "output_type": "stream",
       "stream": "stderr",
       "text": []
      },
      {
       "metadata": {},
       "output_type": "pyout",
       "prompt_number": 3,
       "text": [
        "true"
       ]
      }
     ],
     "prompt_number": 3
    },
    {
     "cell_type": "markdown",
     "metadata": {},
     "source": [
      "The next options define the type of GLM model (linear, logistic etc) through the links value.\n",
      "They also specify through the targets matrix, how to extract target values from the input matrix.\n",
      "Finally the mask is a vector that specifies which data values can be used for training: i.e. it should exclude the target values."
     ]
    },
    {
     "cell_type": "code",
     "collapsed": false,
     "input": [
      "mnopts.links = GLM.maxp*iones(10,1)\n",
      "mnopts.autoReset = false            // Dont reset the GPU after the training run, so we can use a GPU model for prediction"
     ],
     "language": "python",
     "metadata": {},
     "outputs": [
      {
       "output_type": "stream",
       "stream": "stdout",
       "text": []
      },
      {
       "output_type": "stream",
       "stream": "stderr",
       "text": []
      },
      {
       "metadata": {},
       "output_type": "pyout",
       "prompt_number": 4,
       "text": [
        "false"
       ]
      }
     ],
     "prompt_number": 4
    },
    {
     "cell_type": "markdown",
     "metadata": {},
     "source": [
      "Next we'll create a custom datasource. We need a bit of runtime configuration to ensure that the datasource runs reliably. Because it prefetches files with separate threads, we need to make sure that enough threads are available or it will stall. The <code>threadPool(4)</code> call takes care of this."
     ]
    },
    {
     "cell_type": "code",
     "collapsed": false,
     "input": [
      "val ds = {\n",
      "  implicit val ec = threadPool(4)   // make sure there are enough threads (more than the lookahead count)\n",
      "  new FilesDS(mnopts)              // the datasource\n",
      "}"
     ],
     "language": "python",
     "metadata": {},
     "outputs": [
      {
       "output_type": "stream",
       "stream": "stdout",
       "text": []
      },
      {
       "output_type": "stream",
       "stream": "stderr",
       "text": []
      },
      {
       "metadata": {},
       "output_type": "pyout",
       "prompt_number": 5,
       "text": [
        "BIDMach.datasources.FilesDS@6f5c0b7b"
       ]
      }
     ],
     "prompt_number": 5
    },
    {
     "cell_type": "markdown",
     "metadata": {},
     "source": [
      "Next we define the main learner class, which is built up from various \"plug-and-play\" learning modules."
     ]
    },
    {
     "cell_type": "code",
     "collapsed": false,
     "input": [
      "val nn = new Learner(                // make a learner instance\n",
      "    ds,                              // datasource\n",
      "    new GLM(mnopts),                 // the model (a GLM model)\n",
      "    null,                            // list of mixins or regularizers\n",
      "    new ADAGrad(mnopts),             // the optimization class to use\n",
      "    mnopts)                          // pass the options to the learner as well\n",
      "nn"
     ],
     "language": "python",
     "metadata": {},
     "outputs": [
      {
       "output_type": "stream",
       "stream": "stdout",
       "text": []
      },
      {
       "output_type": "stream",
       "stream": "stderr",
       "text": []
      },
      {
       "metadata": {},
       "output_type": "pyout",
       "prompt_number": 6,
       "text": [
        "Learner(BIDMach.datasources.FilesDS@6f5c0b7b,BIDMach.models.GLM@5fe031b9,null,BIDMach.updaters.ADAGrad@77e099db,xopts@40c674ff)"
       ]
      }
     ],
     "prompt_number": 6
    },
    {
     "cell_type": "heading",
     "level": 3,
     "metadata": {},
     "source": [
      "Tuning Options"
     ]
    },
    {
     "cell_type": "markdown",
     "metadata": {},
     "source": [
      "The following options are the important ones for tuning. "
     ]
    },
    {
     "cell_type": "code",
     "collapsed": false,
     "input": [
      "mnopts.batchSize = 1000\n",
      "mnopts.npasses = 2\n",
      "mnopts.lrate = 0.001"
     ],
     "language": "python",
     "metadata": {},
     "outputs": [
      {
       "output_type": "stream",
       "stream": "stdout",
       "text": []
      },
      {
       "output_type": "stream",
       "stream": "stderr",
       "text": []
      },
      {
       "metadata": {},
       "output_type": "pyout",
       "prompt_number": 7,
       "text": [
        "0.0010000"
       ]
      }
     ],
     "prompt_number": 7
    },
    {
     "cell_type": "markdown",
     "metadata": {},
     "source": [
      "You invoke the learner the same way as before. You can change the options above after each run to optimize performance. "
     ]
    },
    {
     "cell_type": "code",
     "collapsed": false,
     "input": [
      "nn.train"
     ],
     "language": "python",
     "metadata": {},
     "outputs": [
      {
       "output_type": "stream",
       "stream": "stdout",
       "text": [
        "corpus perplexity=340.210382\n"
       ]
      },
      {
       "output_type": "stream",
       "stream": "stdout",
       "text": [
        "pass= 0\n"
       ]
      },
      {
       "output_type": "stream",
       "stream": "stdout",
       "text": [
        " 1.00%, ll=-0.157, gf=3.058, secs=0.7, GB=0.13, MB/s=190.82, GPUmem=0.98\n",
        " 2.00%, ll=-0.100, gf=3.656, secs=0.8, GB=0.20, MB/s=244.58, GPUmem=0.98\n"
       ]
      },
      {
       "output_type": "stream",
       "stream": "stdout",
       "text": [
        " 4.00%, ll=-0.100, gf=4.806, secs=1.3, GB=0.44, MB/s=350.50, GPUmem=0.98\n",
        " 5.00%, ll=-0.100, gf=5.124, secs=1.8, GB=0.68, MB/s=383.29, GPUmem=0.98\n"
       ]
      },
      {
       "output_type": "stream",
       "stream": "stdout",
       "text": [
        " 7.00%, ll=-0.097, gf=5.512, secs=2.2, GB=0.92, MB/s=417.59, GPUmem=0.98\n",
        " 8.00%, ll=-0.095, gf=5.621, secs=2.7, GB=1.16, MB/s=429.02, GPUmem=0.98\n",
        "10.00%, ll=-0.092, gf=5.807, secs=3.1, GB=1.40, MB/s=445.33, GPUmem=0.98\n"
       ]
      },
      {
       "output_type": "stream",
       "stream": "stdout",
       "text": [
        "11.00%, ll=-0.085, gf=5.844, secs=3.6, GB=1.64, MB/s=449.79, GPUmem=0.98\n"
       ]
      },
      {
       "output_type": "stream",
       "stream": "stdout",
       "text": [
        "12.00%, ll=-0.079, gf=5.270, secs=4.6, GB=1.88, MB/s=406.66, GPUmem=0.98\n"
       ]
      },
      {
       "output_type": "stream",
       "stream": "stdout",
       "text": [
        "14.00%, ll=-0.079, gf=3.992, secs=6.9, GB=2.12, MB/s=308.65, GPUmem=0.98\n"
       ]
      },
      {
       "output_type": "stream",
       "stream": "stdout",
       "text": [
        "15.00%, ll=-0.077, gf=3.840, secs=7.9, GB=2.36, MB/s=297.43, GPUmem=0.98\n"
       ]
      },
      {
       "output_type": "stream",
       "stream": "stdout",
       "text": [
        "17.00%, ll=-0.077, gf=3.259, secs=10.3, GB=2.60, MB/s=252.77, GPUmem=0.98\n"
       ]
      },
      {
       "output_type": "stream",
       "stream": "stdout",
       "text": [
        "18.00%, ll=-0.078, gf=3.250, secs=11.2, GB=2.84, MB/s=252.31, GPUmem=0.98\n"
       ]
      },
      {
       "output_type": "stream",
       "stream": "stdout",
       "text": [
        "20.00%, ll=-0.077, gf=2.949, secs=13.4, GB=3.08, MB/s=229.25, GPUmem=0.98\n"
       ]
      },
      {
       "output_type": "stream",
       "stream": "stdout",
       "text": [
        "21.00%, ll=-0.077, gf=2.948, secs=14.4, GB=3.31, MB/s=229.39, GPUmem=0.98\n"
       ]
      },
      {
       "output_type": "stream",
       "stream": "stdout",
       "text": [
        "22.00%, ll=-0.077, gf=2.701, secs=16.9, GB=3.55, MB/s=210.27, GPUmem=0.98\n"
       ]
      },
      {
       "output_type": "stream",
       "stream": "stdout",
       "text": [
        "24.00%, ll=-0.076, gf=2.756, secs=17.7, GB=3.79, MB/s=214.69, GPUmem=0.98\n"
       ]
      },
      {
       "output_type": "stream",
       "stream": "stdout",
       "text": [
        "25.00%, ll=-0.075, gf=2.566, secs=20.2, GB=4.03, MB/s=199.99, GPUmem=0.98\n"
       ]
      },
      {
       "output_type": "stream",
       "stream": "stdout",
       "text": [
        "27.00%, ll=-0.075, gf=2.622, secs=20.9, GB=4.27, MB/s=204.45, GPUmem=0.98\n"
       ]
      },
      {
       "output_type": "stream",
       "stream": "stdout",
       "text": [
        "28.00%, ll=-0.075, gf=2.469, secs=23.4, GB=4.51, MB/s=192.62, GPUmem=0.98\n"
       ]
      },
      {
       "output_type": "stream",
       "stream": "stdout",
       "text": [
        "30.00%, ll=-0.073, gf=2.509, secs=24.3, GB=4.75, MB/s=195.78, GPUmem=0.98\n"
       ]
      },
      {
       "output_type": "stream",
       "stream": "stdout",
       "text": [
        "31.00%, ll=-0.073, gf=2.389, secs=26.8, GB=4.99, MB/s=186.49, GPUmem=0.98\n"
       ]
      },
      {
       "output_type": "stream",
       "stream": "stdout",
       "text": [
        "32.00%, ll=-0.073, gf=2.411, secs=27.8, GB=5.23, MB/s=188.29, GPUmem=0.98\n"
       ]
      },
      {
       "output_type": "stream",
       "stream": "stdout",
       "text": [
        "34.00%, ll=-0.071, gf=2.338, secs=29.9, GB=5.47, MB/s=182.64, GPUmem=0.98\n"
       ]
      },
      {
       "output_type": "stream",
       "stream": "stdout",
       "text": [
        "35.00%, ll=-0.072, gf=2.331, secs=31.3, GB=5.71, MB/s=182.16, GPUmem=0.98\n"
       ]
      },
      {
       "output_type": "stream",
       "stream": "stdout",
       "text": [
        "37.00%, ll=-0.071, gf=2.299, secs=33.1, GB=5.95, MB/s=179.69, GPUmem=0.98\n"
       ]
      },
      {
       "output_type": "stream",
       "stream": "stdout",
       "text": [
        "38.00%, ll=-0.070, gf=2.277, secs=34.8, GB=6.19, MB/s=178.01, GPUmem=0.98\n"
       ]
      },
      {
       "output_type": "stream",
       "stream": "stdout",
       "text": [
        "40.00%, ll=-0.067, gf=2.260, secs=36.4, GB=6.43, MB/s=176.74, GPUmem=0.98\n"
       ]
      },
      {
       "output_type": "stream",
       "stream": "stdout",
       "text": [
        "41.00%, ll=-0.066, gf=2.243, secs=38.0, GB=6.66, MB/s=175.42, GPUmem=0.98\n"
       ]
      },
      {
       "output_type": "stream",
       "stream": "stdout",
       "text": [
        "42.00%, ll=-0.067, gf=2.226, secs=39.7, GB=6.90, MB/s=174.07, GPUmem=0.98\n"
       ]
      },
      {
       "output_type": "stream",
       "stream": "stdout",
       "text": [
        "44.00%, ll=-0.064, gf=2.220, secs=41.1, GB=7.14, MB/s=173.64, GPUmem=0.98\n"
       ]
      },
      {
       "output_type": "stream",
       "stream": "stdout",
       "text": [
        "45.00%, ll=-0.064, gf=2.201, secs=42.9, GB=7.38, MB/s=172.17, GPUmem=0.98\n"
       ]
      },
      {
       "output_type": "stream",
       "stream": "stdout",
       "text": [
        "47.00%, ll=-0.065, gf=2.194, secs=44.4, GB=7.62, MB/s=171.66, GPUmem=0.98\n"
       ]
      },
      {
       "output_type": "stream",
       "stream": "stdout",
       "text": [
        "48.00%, ll=-0.064, gf=2.178, secs=46.1, GB=7.86, MB/s=170.47, GPUmem=0.98\n"
       ]
      },
      {
       "output_type": "stream",
       "stream": "stdout",
       "text": [
        "50.00%, ll=-0.065, gf=2.173, secs=47.6, GB=8.10, MB/s=170.11, GPUmem=0.98\n"
       ]
      },
      {
       "output_type": "stream",
       "stream": "stdout",
       "text": [
        "51.00%, ll=-0.065, gf=2.159, secs=49.3, GB=8.34, MB/s=169.05, GPUmem=0.98\n"
       ]
      },
      {
       "output_type": "stream",
       "stream": "stdout",
       "text": [
        "52.00%, ll=-0.064, gf=2.153, secs=50.9, GB=8.58, MB/s=168.55, GPUmem=0.98\n"
       ]
      },
      {
       "output_type": "stream",
       "stream": "stdout",
       "text": [
        "54.00%, ll=-0.064, gf=2.142, secs=52.6, GB=8.82, MB/s=167.74, GPUmem=0.98\n"
       ]
      },
      {
       "output_type": "stream",
       "stream": "stdout",
       "text": [
        "55.00%, ll=-0.063, gf=2.136, secs=54.1, GB=9.06, MB/s=167.30, GPUmem=0.98\n"
       ]
      },
      {
       "output_type": "stream",
       "stream": "stdout",
       "text": [
        "57.00%, ll=-0.064, gf=2.129, secs=55.8, GB=9.30, MB/s=166.71, GPUmem=0.98\n"
       ]
      },
      {
       "output_type": "stream",
       "stream": "stdout",
       "text": [
        "58.00%, ll=-0.064, gf=2.123, secs=57.4, GB=9.54, MB/s=166.25, GPUmem=0.98\n"
       ]
      },
      {
       "output_type": "stream",
       "stream": "stdout",
       "text": [
        "60.00%, ll=-0.064, gf=2.107, secs=59.2, GB=9.78, MB/s=165.00, GPUmem=0.98\n"
       ]
      },
      {
       "output_type": "stream",
       "stream": "stdout",
       "text": [
        "61.00%, ll=-0.064, gf=2.107, secs=60.7, GB=10.01, MB/s=165.06, GPUmem=0.98\n"
       ]
      },
      {
       "output_type": "stream",
       "stream": "stdout",
       "text": [
        "62.00%, ll=-0.063, gf=2.094, secs=62.5, GB=10.25, MB/s=164.06, GPUmem=0.98\n"
       ]
      },
      {
       "output_type": "stream",
       "stream": "stdout",
       "text": [
        "64.00%, ll=-0.063, gf=2.086, secs=64.2, GB=10.49, MB/s=163.39, GPUmem=0.98\n"
       ]
      },
      {
       "output_type": "stream",
       "stream": "stdout",
       "text": [
        "65.00%, ll=-0.063, gf=2.084, secs=65.7, GB=10.73, MB/s=163.26, GPUmem=0.98\n"
       ]
      },
      {
       "output_type": "stream",
       "stream": "stdout",
       "text": [
        "67.00%, ll=-0.064, gf=2.076, secs=67.4, GB=10.97, MB/s=162.69, GPUmem=0.98\n"
       ]
      },
      {
       "output_type": "stream",
       "stream": "stdout",
       "text": [
        "68.00%, ll=-0.064, gf=2.075, secs=68.9, GB=11.21, MB/s=162.65, GPUmem=0.98\n"
       ]
      },
      {
       "output_type": "stream",
       "stream": "stdout",
       "text": [
        "70.00%, ll=-0.064, gf=2.066, secs=70.7, GB=11.45, MB/s=161.95, GPUmem=0.98\n"
       ]
      },
      {
       "output_type": "stream",
       "stream": "stdout",
       "text": [
        "71.00%, ll=-0.064, gf=2.057, secs=72.5, GB=11.69, MB/s=161.24, GPUmem=0.98\n"
       ]
      },
      {
       "output_type": "stream",
       "stream": "stdout",
       "text": [
        "72.00%, ll=-0.063, gf=2.055, secs=74.0, GB=11.93, MB/s=161.11, GPUmem=0.98\n"
       ]
      },
      {
       "output_type": "stream",
       "stream": "stdout",
       "text": [
        "74.00%, ll=-0.062, gf=2.043, secs=76.0, GB=12.17, MB/s=160.17, GPUmem=0.98\n"
       ]
      },
      {
       "output_type": "stream",
       "stream": "stdout",
       "text": [
        "75.00%, ll=-0.064, gf=2.048, secs=77.3, GB=12.41, MB/s=160.57, GPUmem=0.98\n"
       ]
      },
      {
       "output_type": "stream",
       "stream": "stdout",
       "text": [
        "77.00%, ll=-0.064, gf=2.037, secs=79.2, GB=12.65, MB/s=159.65, GPUmem=0.98\n"
       ]
      },
      {
       "output_type": "stream",
       "stream": "stdout",
       "text": [
        "78.00%, ll=-0.063, gf=2.042, secs=80.5, GB=12.89, MB/s=160.10, GPUmem=0.98\n"
       ]
      },
      {
       "output_type": "stream",
       "stream": "stdout",
       "text": [
        "80.00%, ll=-0.064, gf=2.024, secs=82.7, GB=13.13, MB/s=158.70, GPUmem=0.98\n"
       ]
      },
      {
       "output_type": "stream",
       "stream": "stdout",
       "text": [
        "81.00%, ll=-0.063, gf=2.037, secs=83.7, GB=13.36, MB/s=159.71, GPUmem=0.98\n"
       ]
      },
      {
       "output_type": "stream",
       "stream": "stdout",
       "text": [
        "82.00%, ll=-0.063, gf=2.018, secs=86.0, GB=13.60, MB/s=158.27, GPUmem=0.98\n"
       ]
      },
      {
       "output_type": "stream",
       "stream": "stdout",
       "text": [
        "84.00%, ll=-0.063, gf=2.031, secs=86.9, GB=13.84, MB/s=159.25, GPUmem=0.98\n"
       ]
      },
      {
       "output_type": "stream",
       "stream": "stdout",
       "text": [
        "85.00%, ll=-0.064, gf=2.033, secs=88.3, GB=14.08, MB/s=159.42, GPUmem=0.98\n",
        "87.00%, ll=-0.063, gf=2.058, secs=88.7, GB=14.32, MB/s=161.42, GPUmem=0.98\n"
       ]
      },
      {
       "output_type": "stream",
       "stream": "stdout",
       "text": [
        "88.00%, ll=-0.063, gf=2.081, secs=89.2, GB=14.56, MB/s=163.18, GPUmem=0.98\n",
        "89.00%, ll=-0.064, gf=2.106, secs=89.6, GB=14.80, MB/s=165.14, GPUmem=0.98\n"
       ]
      },
      {
       "output_type": "stream",
       "stream": "stdout",
       "text": [
        "91.00%, ll=-0.062, gf=2.127, secs=90.1, GB=15.04, MB/s=166.86, GPUmem=0.98\n",
        "92.00%, ll=-0.063, gf=2.152, secs=90.5, GB=15.28, MB/s=168.79, GPUmem=0.98\n",
        "94.00%, ll=-0.063, gf=2.173, secs=91.0, GB=15.52, MB/s=170.47, GPUmem=0.98\n"
       ]
      },
      {
       "output_type": "stream",
       "stream": "stdout",
       "text": [
        "95.00%, ll=-0.063, gf=2.198, secs=91.4, GB=15.76, MB/s=172.37, GPUmem=0.98\n",
        "97.00%, ll=-0.063, gf=2.218, secs=91.9, GB=16.00, MB/s=174.00, GPUmem=0.98\n"
       ]
      },
      {
       "output_type": "stream",
       "stream": "stdout",
       "text": [
        "98.00%, ll=-0.063, gf=2.242, secs=92.3, GB=16.24, MB/s=175.87, GPUmem=0.98\n",
        "100.00%, ll=-0.063, gf=2.262, secs=92.8, GB=16.48, MB/s=177.46, GPUmem=0.98\n"
       ]
      },
      {
       "output_type": "stream",
       "stream": "stdout",
       "text": [
        "101.00%, ll=-0.063, gf=2.285, secs=93.2, GB=16.71, MB/s=179.28, GPUmem=0.98\n",
        "pass= 1\n",
        " 1.00%, ll=-0.063, gf=2.298, secs=93.6, GB=16.88, MB/s=180.32, GPUmem=0.98\n",
        " 2.00%, ll=-0.059, gf=2.305, secs=93.7, GB=16.95, MB/s=180.85, GPUmem=0.98\n",
        " 4.00%, ll=-0.063, gf=2.328, secs=94.1, GB=17.19, MB/s=182.65, GPUmem=0.98\n"
       ]
      },
      {
       "output_type": "stream",
       "stream": "stdout",
       "text": [
        " 5.00%, ll=-0.063, gf=2.351, secs=94.5, GB=17.43, MB/s=184.44, GPUmem=0.98\n",
        " 7.00%, ll=-0.063, gf=2.373, secs=94.9, GB=17.67, MB/s=186.22, GPUmem=0.98\n"
       ]
      },
      {
       "output_type": "stream",
       "stream": "stdout",
       "text": [
        " 8.00%, ll=-0.062, gf=2.396, secs=95.3, GB=17.91, MB/s=187.98, GPUmem=0.98\n"
       ]
      },
      {
       "output_type": "stream",
       "stream": "stdout",
       "text": [
        "10.00%, ll=-0.062, gf=2.418, secs=95.7, GB=18.15, MB/s=189.73, GPUmem=0.98\n",
        "11.00%, ll=-0.063, gf=2.440, secs=96.0, GB=18.39, MB/s=191.47, GPUmem=0.98\n"
       ]
      },
      {
       "output_type": "stream",
       "stream": "stdout",
       "text": [
        "12.00%, ll=-0.060, gf=2.462, secs=96.4, GB=18.63, MB/s=193.19, GPUmem=0.98\n",
        "14.00%, ll=-0.059, gf=2.484, secs=96.8, GB=18.87, MB/s=194.90, GPUmem=0.98\n",
        "15.00%, ll=-0.059, gf=2.505, secs=97.2, GB=19.11, MB/s=196.59, GPUmem=0.98\n"
       ]
      },
      {
       "output_type": "stream",
       "stream": "stdout",
       "text": [
        "17.00%, ll=-0.057, gf=2.527, secs=97.6, GB=19.35, MB/s=198.28, GPUmem=0.98\n",
        "18.00%, ll=-0.057, gf=2.548, secs=98.0, GB=19.59, MB/s=199.94, GPUmem=0.98\n",
        "20.00%, ll=-0.058, gf=2.569, secs=98.3, GB=19.83, MB/s=201.61, GPUmem=0.98\n"
       ]
      },
      {
       "output_type": "stream",
       "stream": "stdout",
       "text": [
        "21.00%, ll=-0.058, gf=2.590, secs=98.7, GB=20.06, MB/s=203.25, GPUmem=0.98\n",
        "22.00%, ll=-0.058, gf=2.610, secs=99.1, GB=20.30, MB/s=204.88, GPUmem=0.98\n",
        "24.00%, ll=-0.057, gf=2.631, secs=99.5, GB=20.54, MB/s=206.50, GPUmem=0.98\n"
       ]
      },
      {
       "output_type": "stream",
       "stream": "stdout",
       "text": [
        "25.00%, ll=-0.056, gf=2.651, secs=99.9, GB=20.78, MB/s=208.10, GPUmem=0.98\n",
        "27.00%, ll=-0.056, gf=2.672, secs=100.2, GB=21.02, MB/s=209.70, GPUmem=0.98\n"
       ]
      },
      {
       "output_type": "stream",
       "stream": "stdout",
       "text": [
        "28.00%, ll=-0.057, gf=2.692, secs=100.6, GB=21.26, MB/s=211.28, GPUmem=0.98\n"
       ]
      },
      {
       "output_type": "stream",
       "stream": "stdout",
       "text": [
        "30.00%, ll=-0.058, gf=2.712, secs=101.0, GB=21.50, MB/s=212.85, GPUmem=0.98\n",
        "31.00%, ll=-0.057, gf=2.732, secs=101.4, GB=21.74, MB/s=214.41, GPUmem=0.98\n"
       ]
      },
      {
       "output_type": "stream",
       "stream": "stdout",
       "text": [
        "32.00%, ll=-0.057, gf=2.751, secs=101.8, GB=21.98, MB/s=215.96, GPUmem=0.98\n",
        "34.00%, ll=-0.056, gf=2.771, secs=102.2, GB=22.22, MB/s=217.49, GPUmem=0.98\n",
        "35.00%, ll=-0.057, gf=2.790, secs=102.5, GB=22.46, MB/s=219.02, GPUmem=0.98\n"
       ]
      },
      {
       "output_type": "stream",
       "stream": "stdout",
       "text": [
        "37.00%, ll=-0.057, gf=2.809, secs=102.9, GB=22.70, MB/s=220.53, GPUmem=0.98\n",
        "38.00%, ll=-0.057, gf=2.829, secs=103.3, GB=22.94, MB/s=222.04, GPUmem=0.98\n",
        "40.00%, ll=-0.055, gf=2.848, secs=103.7, GB=23.17, MB/s=223.53, GPUmem=0.98\n"
       ]
      },
      {
       "output_type": "stream",
       "stream": "stdout",
       "text": [
        "41.00%, ll=-0.056, gf=2.866, secs=104.1, GB=23.41, MB/s=225.01, GPUmem=0.98\n",
        "42.00%, ll=-0.057, gf=2.885, secs=104.4, GB=23.65, MB/s=226.48, GPUmem=0.98\n",
        "44.00%, ll=-0.056, gf=2.904, secs=104.8, GB=23.89, MB/s=227.94, GPUmem=0.98\n"
       ]
      },
      {
       "output_type": "stream",
       "stream": "stdout",
       "text": [
        "45.00%, ll=-0.057, gf=2.922, secs=105.2, GB=24.13, MB/s=229.39, GPUmem=0.98\n",
        "47.00%, ll=-0.057, gf=2.940, secs=105.6, GB=24.37, MB/s=230.82, GPUmem=0.98\n"
       ]
      },
      {
       "output_type": "stream",
       "stream": "stdout",
       "text": [
        "48.00%, ll=-0.056, gf=2.959, secs=106.0, GB=24.61, MB/s=232.25, GPUmem=0.98\n",
        "50.00%, ll=-0.056, gf=2.977, secs=106.3, GB=24.85, MB/s=233.67, GPUmem=0.98\n",
        "51.00%, ll=-0.057, gf=2.994, secs=106.7, GB=25.09, MB/s=235.09, GPUmem=0.98\n"
       ]
      },
      {
       "output_type": "stream",
       "stream": "stdout",
       "text": [
        "52.00%, ll=-0.057, gf=3.012, secs=107.1, GB=25.33, MB/s=236.48, GPUmem=0.98\n",
        "54.00%, ll=-0.057, gf=3.030, secs=107.5, GB=25.57, MB/s=237.87, GPUmem=0.98\n",
        "55.00%, ll=-0.057, gf=3.047, secs=107.9, GB=25.81, MB/s=239.25, GPUmem=0.98\n"
       ]
      },
      {
       "output_type": "stream",
       "stream": "stdout",
       "text": [
        "57.00%, ll=-0.055, gf=3.065, secs=108.2, GB=26.05, MB/s=240.62, GPUmem=0.98\n",
        "58.00%, ll=-0.055, gf=3.082, secs=108.6, GB=26.28, MB/s=241.98, GPUmem=0.98\n",
        "60.00%, ll=-0.056, gf=3.099, secs=109.0, GB=26.52, MB/s=243.34, GPUmem=0.98\n"
       ]
      },
      {
       "output_type": "stream",
       "stream": "stdout",
       "text": [
        "61.00%, ll=-0.058, gf=3.117, secs=109.4, GB=26.76, MB/s=244.69, GPUmem=0.98\n",
        "62.00%, ll=-0.056, gf=3.134, secs=109.8, GB=27.00, MB/s=246.03, GPUmem=0.98\n"
       ]
      },
      {
       "output_type": "stream",
       "stream": "stdout",
       "text": [
        "64.00%, ll=-0.057, gf=3.151, secs=110.1, GB=27.24, MB/s=247.37, GPUmem=0.98\n"
       ]
      },
      {
       "output_type": "stream",
       "stream": "stdout",
       "text": [
        "65.00%, ll=-0.056, gf=3.168, secs=110.5, GB=27.48, MB/s=248.69, GPUmem=0.98\n",
        "67.00%, ll=-0.056, gf=3.184, secs=110.9, GB=27.72, MB/s=250.01, GPUmem=0.98\n"
       ]
      },
      {
       "output_type": "stream",
       "stream": "stdout",
       "text": [
        "68.00%, ll=-0.056, gf=3.201, secs=111.3, GB=27.96, MB/s=251.31, GPUmem=0.98\n"
       ]
      },
      {
       "output_type": "stream",
       "stream": "stdout",
       "text": [
        "70.00%, ll=-0.057, gf=3.217, secs=111.6, GB=28.20, MB/s=252.61, GPUmem=0.98\n",
        "71.00%, ll=-0.055, gf=3.234, secs=112.0, GB=28.44, MB/s=253.90, GPUmem=0.98\n"
       ]
      },
      {
       "output_type": "stream",
       "stream": "stdout",
       "text": [
        "72.00%, ll=-0.056, gf=3.250, secs=112.4, GB=28.68, MB/s=255.18, GPUmem=0.98\n",
        "74.00%, ll=-0.057, gf=3.266, secs=112.8, GB=28.92, MB/s=256.45, GPUmem=0.98\n",
        "75.00%, ll=-0.055, gf=3.282, secs=113.1, GB=29.16, MB/s=257.72, GPUmem=0.98\n"
       ]
      },
      {
       "output_type": "stream",
       "stream": "stdout",
       "text": [
        "77.00%, ll=-0.057, gf=3.298, secs=113.5, GB=29.40, MB/s=258.97, GPUmem=0.98\n",
        "78.00%, ll=-0.057, gf=3.314, secs=113.9, GB=29.63, MB/s=260.21, GPUmem=0.98\n",
        "80.00%, ll=-0.055, gf=3.330, secs=114.3, GB=29.87, MB/s=261.45, GPUmem=0.98\n"
       ]
      },
      {
       "output_type": "stream",
       "stream": "stdout",
       "text": [
        "81.00%, ll=-0.055, gf=3.345, secs=114.6, GB=30.11, MB/s=262.68, GPUmem=0.98\n",
        "82.00%, ll=-0.056, gf=3.361, secs=115.0, GB=30.35, MB/s=263.91, GPUmem=0.98\n",
        "84.00%, ll=-0.056, gf=3.376, secs=115.4, GB=30.59, MB/s=265.12, GPUmem=0.98\n"
       ]
      },
      {
       "output_type": "stream",
       "stream": "stdout",
       "text": [
        "85.00%, ll=-0.056, gf=3.392, secs=115.8, GB=30.83, MB/s=266.33, GPUmem=0.98\n",
        "87.00%, ll=-0.056, gf=3.407, secs=116.1, GB=31.07, MB/s=267.53, GPUmem=0.98\n",
        "88.00%, ll=-0.055, gf=3.422, secs=116.5, GB=31.31, MB/s=268.73, GPUmem=0.98\n"
       ]
      },
      {
       "output_type": "stream",
       "stream": "stdout",
       "text": [
        "89.00%, ll=-0.055, gf=3.437, secs=116.9, GB=31.55, MB/s=269.91, GPUmem=0.98\n",
        "91.00%, ll=-0.056, gf=3.452, secs=117.3, GB=31.79, MB/s=271.09, GPUmem=0.98\n"
       ]
      },
      {
       "output_type": "stream",
       "stream": "stdout",
       "text": [
        "92.00%, ll=-0.057, gf=3.467, secs=117.6, GB=32.03, MB/s=272.26, GPUmem=0.98\n",
        "94.00%, ll=-0.056, gf=3.482, secs=118.0, GB=32.27, MB/s=273.42, GPUmem=0.98\n",
        "95.00%, ll=-0.056, gf=3.497, secs=118.4, GB=32.51, MB/s=274.58, GPUmem=0.98\n"
       ]
      },
      {
       "output_type": "stream",
       "stream": "stdout",
       "text": [
        "97.00%, ll=-0.055, gf=3.511, secs=118.8, GB=32.74, MB/s=275.73, GPUmem=0.98\n",
        "98.00%, ll=-0.056, gf=3.526, secs=119.1, GB=32.98, MB/s=276.87, GPUmem=0.98\n",
        "100.00%, ll=-0.056, gf=3.540, secs=119.5, GB=33.22, MB/s=278.00, GPUmem=0.98\n"
       ]
      },
      {
       "output_type": "stream",
       "stream": "stdout",
       "text": [
        "101.00%, ll=-0.056, gf=3.554, secs=119.9, GB=33.46, MB/s=279.13, GPUmem=0.98\n",
        "Time=119.8830 secs, gflops=3.55\n"
       ]
      },
      {
       "output_type": "stream",
       "stream": "stderr",
       "text": []
      }
     ],
     "prompt_number": 8
    },
    {
     "cell_type": "markdown",
     "metadata": {},
     "source": [
      "Note the relatively low gflops throughput and high I/O throughput for this dataset. This problem is clearly I/O bound. This is often true for regression problems, especially those with few targets (there were 10 here vs. 104 for RCV1). To study computing limits, we'll next do a compute-intensive problem: K-means clustering. "
     ]
    },
    {
     "cell_type": "heading",
     "level": 2,
     "metadata": {},
     "source": [
      "Shutdown this document before continuing"
     ]
    },
    {
     "cell_type": "markdown",
     "metadata": {},
     "source": [
      "Go back to your master notebook page, and click on **shutdown** next to this page. "
     ]
    },
    {
     "cell_type": "code",
     "collapsed": false,
     "input": [],
     "language": "python",
     "metadata": {},
     "outputs": [],
     "prompt_number": 8
    }
   ],
   "metadata": {}
  }
 ]
}