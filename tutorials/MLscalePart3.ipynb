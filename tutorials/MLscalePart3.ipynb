{
 "metadata": {
  "name": "",
  "signature": "sha256:b95ccfb5edab4917993c274fd92f068739d3b85e44aa002617d005f37d960ecd"
 },
 "nbformat": 3,
 "nbformat_minor": 0,
 "worksheets": [
  {
   "cells": [
    {
     "cell_type": "heading",
     "level": 1,
     "metadata": {},
     "source": [
      "Machine Learning at Scale, Part III"
     ]
    },
    {
     "cell_type": "code",
     "collapsed": false,
     "input": [
      "import BIDMat.{CMat,CSMat,DMat,Dict,IDict,Image,FMat,FND,GMat,GIMat,GSMat,HMat,IMat,Mat,SMat,SBMat,SDMat}\n",
      "import BIDMat.MatFunctions._\n",
      "import BIDMat.SciFunctions._\n",
      "import BIDMat.Solvers._\n",
      "import BIDMat.Plotting._\n",
      "import BIDMach.Learner\n",
      "import BIDMach.models.{FM,GLM,KMeans,KMeansw,LDA,LDAgibbs,Model,NMF,SFA}\n",
      "import BIDMach.datasources.{DataSource,MatDS,FilesDS,SFilesDS}\n",
      "import BIDMach.mixins.{CosineSim,Perplexity,Top,L1Regularizer,L2Regularizer}\n",
      "import BIDMach.updaters.{ADAGrad,Batch,BatchNorm,IncMult,IncNorm,Telescoping}\n",
      "import BIDMach.causal.{IPTW}\n",
      "\n",
      "Mat.checkMKL\n",
      "Mat.checkCUDA\n",
      "if (Mat.hasCUDA > 0) GPUmem"
     ],
     "language": "python",
     "metadata": {},
     "outputs": [
      {
       "output_type": "stream",
       "stream": "stdout",
       "text": [
        "1 CUDA device found, CUDA version 6.5\n"
       ]
      },
      {
       "output_type": "stream",
       "stream": "stderr",
       "text": []
      },
      {
       "metadata": {},
       "output_type": "pyout",
       "prompt_number": 1,
       "text": [
        "(0.976755,4194938880,4294770688)"
       ]
      }
     ],
     "prompt_number": 1
    },
    {
     "cell_type": "heading",
     "level": 2,
     "metadata": {},
     "source": [
      "KMeans clustering at scale"
     ]
    },
    {
     "cell_type": "markdown",
     "metadata": {},
     "source": [
      "Training models with data that fits in memory is very limiting. But minibatch learners can easily work with data directly from disk. They access data sequentially (which avoids seeking and maximizes disk throughput) and converge in very few passes. We'll look again at the MNIST data set, this time the full version with 8 million images (about 17 GB). The dataset has been partition into groups of 100k images (using the unix split command) and saved in compressed lz4 files. \n",
      "\n",
      "If you dont yet have the \"alls\" files, you can build them from the cats and part files with the cell below. Just uncomment the for loop. As you can see, alls is built from the data matrix and a scaled-up copy of the category matrix. The exaggerated category feature forces each cluster to be pure - of one category. It also creates a category feature for the cluster which can be used to retrieve its dominant category for labeling. "
     ]
    },
    {
     "cell_type": "code",
     "collapsed": false,
     "input": [
      "val mdir = \"../data/MNIST8M/parts/\"\n",
      "/* for (i <- 0 to 80) {\n",
      "    val a = loadFMat(mdir+\"part%02d.fmat.lz4\" format i)\n",
      "    val c = loadFMat(mdir+\"cats%02d.fmat.lz4\" format i)\n",
      "    saveFMat(mdir+\"data%02d.fmat.lz4\" format i, a)\n",
      "    val alls = (c * 10000f) on a\n",
      "    saveFMat(mdir+\"alls%02d.fmat.lz4\" format i, alls)\n",
      "    print(\".\")\n",
      "} */"
     ],
     "language": "python",
     "metadata": {},
     "outputs": [
      {
       "output_type": "stream",
       "stream": "stdout",
       "text": [
        "."
       ]
      },
      {
       "output_type": "stream",
       "stream": "stdout",
       "text": [
        "."
       ]
      },
      {
       "output_type": "stream",
       "stream": "stdout",
       "text": [
        "."
       ]
      },
      {
       "output_type": "stream",
       "stream": "stdout",
       "text": [
        "."
       ]
      },
      {
       "output_type": "stream",
       "stream": "stdout",
       "text": [
        "."
       ]
      },
      {
       "output_type": "stream",
       "stream": "stdout",
       "text": [
        "."
       ]
      },
      {
       "output_type": "stream",
       "stream": "stdout",
       "text": [
        "."
       ]
      },
      {
       "output_type": "stream",
       "stream": "stdout",
       "text": [
        "."
       ]
      },
      {
       "output_type": "stream",
       "stream": "stdout",
       "text": [
        "."
       ]
      },
      {
       "output_type": "stream",
       "stream": "stdout",
       "text": [
        "."
       ]
      },
      {
       "output_type": "stream",
       "stream": "stdout",
       "text": [
        "."
       ]
      },
      {
       "output_type": "stream",
       "stream": "stdout",
       "text": [
        "."
       ]
      },
      {
       "output_type": "stream",
       "stream": "stdout",
       "text": [
        "."
       ]
      },
      {
       "output_type": "stream",
       "stream": "stdout",
       "text": [
        "."
       ]
      },
      {
       "output_type": "stream",
       "stream": "stdout",
       "text": [
        "."
       ]
      },
      {
       "output_type": "stream",
       "stream": "stdout",
       "text": [
        "."
       ]
      },
      {
       "output_type": "stream",
       "stream": "stdout",
       "text": [
        "."
       ]
      },
      {
       "output_type": "stream",
       "stream": "stdout",
       "text": [
        "."
       ]
      },
      {
       "output_type": "stream",
       "stream": "stdout",
       "text": [
        "."
       ]
      },
      {
       "output_type": "stream",
       "stream": "stdout",
       "text": [
        "."
       ]
      },
      {
       "output_type": "stream",
       "stream": "stdout",
       "text": [
        "."
       ]
      },
      {
       "output_type": "stream",
       "stream": "stdout",
       "text": [
        "."
       ]
      },
      {
       "output_type": "stream",
       "stream": "stdout",
       "text": [
        "."
       ]
      },
      {
       "output_type": "stream",
       "stream": "stdout",
       "text": [
        "."
       ]
      },
      {
       "output_type": "stream",
       "stream": "stdout",
       "text": [
        "."
       ]
      },
      {
       "output_type": "stream",
       "stream": "stdout",
       "text": [
        "."
       ]
      },
      {
       "output_type": "stream",
       "stream": "stdout",
       "text": [
        "."
       ]
      },
      {
       "output_type": "stream",
       "stream": "stdout",
       "text": [
        "."
       ]
      },
      {
       "output_type": "stream",
       "stream": "stdout",
       "text": [
        "."
       ]
      },
      {
       "output_type": "stream",
       "stream": "stdout",
       "text": [
        "."
       ]
      },
      {
       "output_type": "stream",
       "stream": "stdout",
       "text": [
        "."
       ]
      },
      {
       "output_type": "stream",
       "stream": "stdout",
       "text": [
        "."
       ]
      },
      {
       "output_type": "stream",
       "stream": "stdout",
       "text": [
        "."
       ]
      },
      {
       "output_type": "stream",
       "stream": "stdout",
       "text": [
        "."
       ]
      },
      {
       "output_type": "stream",
       "stream": "stdout",
       "text": [
        "."
       ]
      },
      {
       "output_type": "stream",
       "stream": "stdout",
       "text": [
        "."
       ]
      },
      {
       "output_type": "stream",
       "stream": "stdout",
       "text": [
        "."
       ]
      },
      {
       "output_type": "stream",
       "stream": "stdout",
       "text": [
        "."
       ]
      },
      {
       "output_type": "stream",
       "stream": "stdout",
       "text": [
        "."
       ]
      },
      {
       "output_type": "stream",
       "stream": "stdout",
       "text": [
        "."
       ]
      },
      {
       "output_type": "stream",
       "stream": "stdout",
       "text": [
        "."
       ]
      },
      {
       "output_type": "stream",
       "stream": "stdout",
       "text": [
        "."
       ]
      },
      {
       "output_type": "stream",
       "stream": "stdout",
       "text": [
        "."
       ]
      },
      {
       "output_type": "stream",
       "stream": "stdout",
       "text": [
        "."
       ]
      },
      {
       "output_type": "stream",
       "stream": "stdout",
       "text": [
        "."
       ]
      },
      {
       "output_type": "stream",
       "stream": "stdout",
       "text": [
        "."
       ]
      },
      {
       "output_type": "stream",
       "stream": "stdout",
       "text": [
        "."
       ]
      },
      {
       "output_type": "stream",
       "stream": "stdout",
       "text": [
        "."
       ]
      },
      {
       "output_type": "stream",
       "stream": "stdout",
       "text": [
        "."
       ]
      },
      {
       "output_type": "stream",
       "stream": "stdout",
       "text": [
        "."
       ]
      },
      {
       "output_type": "stream",
       "stream": "stdout",
       "text": [
        "."
       ]
      },
      {
       "output_type": "stream",
       "stream": "stdout",
       "text": [
        "."
       ]
      },
      {
       "output_type": "stream",
       "stream": "stdout",
       "text": [
        "."
       ]
      },
      {
       "output_type": "stream",
       "stream": "stdout",
       "text": [
        "."
       ]
      },
      {
       "output_type": "stream",
       "stream": "stdout",
       "text": [
        "."
       ]
      },
      {
       "output_type": "stream",
       "stream": "stdout",
       "text": [
        "."
       ]
      },
      {
       "output_type": "stream",
       "stream": "stdout",
       "text": [
        "."
       ]
      },
      {
       "output_type": "stream",
       "stream": "stdout",
       "text": [
        "."
       ]
      },
      {
       "output_type": "stream",
       "stream": "stdout",
       "text": [
        "."
       ]
      },
      {
       "output_type": "stream",
       "stream": "stdout",
       "text": [
        "."
       ]
      },
      {
       "output_type": "stream",
       "stream": "stdout",
       "text": [
        "."
       ]
      },
      {
       "output_type": "stream",
       "stream": "stdout",
       "text": [
        "."
       ]
      },
      {
       "output_type": "stream",
       "stream": "stdout",
       "text": [
        "."
       ]
      },
      {
       "output_type": "stream",
       "stream": "stdout",
       "text": [
        "."
       ]
      },
      {
       "output_type": "stream",
       "stream": "stdout",
       "text": [
        "."
       ]
      },
      {
       "output_type": "stream",
       "stream": "stdout",
       "text": [
        "."
       ]
      },
      {
       "output_type": "stream",
       "stream": "stdout",
       "text": [
        "."
       ]
      },
      {
       "output_type": "stream",
       "stream": "stdout",
       "text": [
        "."
       ]
      },
      {
       "output_type": "stream",
       "stream": "stdout",
       "text": [
        "."
       ]
      },
      {
       "output_type": "stream",
       "stream": "stdout",
       "text": [
        "."
       ]
      },
      {
       "output_type": "stream",
       "stream": "stdout",
       "text": [
        "."
       ]
      },
      {
       "output_type": "stream",
       "stream": "stdout",
       "text": [
        "."
       ]
      },
      {
       "output_type": "stream",
       "stream": "stdout",
       "text": [
        "."
       ]
      },
      {
       "output_type": "stream",
       "stream": "stdout",
       "text": [
        "."
       ]
      },
      {
       "output_type": "stream",
       "stream": "stdout",
       "text": [
        "."
       ]
      },
      {
       "output_type": "stream",
       "stream": "stdout",
       "text": [
        "."
       ]
      },
      {
       "output_type": "stream",
       "stream": "stdout",
       "text": [
        "."
       ]
      },
      {
       "output_type": "stream",
       "stream": "stdout",
       "text": [
        "."
       ]
      },
      {
       "output_type": "stream",
       "stream": "stdout",
       "text": [
        "."
       ]
      },
      {
       "output_type": "stream",
       "stream": "stdout",
       "text": [
        "."
       ]
      },
      {
       "output_type": "stream",
       "stream": "stdout",
       "text": [
        "."
       ]
      },
      {
       "output_type": "stream",
       "stream": "stderr",
       "text": []
      }
     ],
     "prompt_number": 20
    },
    {
     "cell_type": "markdown",
     "metadata": {},
     "source": [
      "First we define a class xopts which contains all the options for the learner we will use. BIDMach has a modular design with pluggable learning pieces. This class holds all the options for those pieces. Learner is the main learning class, FilesDS is the data source, KMeans is the model and Batch is the updater (the code that gets run to update the model) for KMeans. \n",
      "\n",
      "Then we make an instance of that class called mnopts. "
     ]
    },
    {
     "cell_type": "code",
     "collapsed": false,
     "input": [
      "class xopts extends Learner.Options with FilesDS.Opts with KMeans.Opts with Batch.Opts; \n",
      "val mnopts = new xopts"
     ],
     "language": "python",
     "metadata": {},
     "outputs": [
      {
       "output_type": "stream",
       "stream": "stdout",
       "text": []
      },
      {
       "output_type": "stream",
       "stream": "stderr",
       "text": []
      },
      {
       "metadata": {},
       "output_type": "pyout",
       "prompt_number": 3,
       "text": [
        "xopts@121309d4"
       ]
      }
     ],
     "prompt_number": 3
    },
    {
     "cell_type": "markdown",
     "metadata": {},
     "source": [
      "Next come the options for the data source. There are quite a few of these, but they only need to be set once and apart from the minibatch size, dont need to be tuned. \n",
      "\n",
      "The following options specify various useful traits of the data source. Many of these are default values and dont actually need to be set, but its useful to know what they do."
     ]
    },
    {
     "cell_type": "code",
     "collapsed": false,
     "input": [
      "mnopts.fnames = List(FilesDS.simpleEnum(mdir+\"alls%02d.fmat.lz4\", 1, 0));  // File name templates, %02d is replaced by a number\n",
      "mnopts.nstart = 0;                 // Starting file number\n",
      "mnopts.nend = 80;                  // Ending file number\n",
      "mnopts.order = 0;                  // (0) sample order, 0=linear, 1=random\n",
      "mnopts.lookahead = 2;              // (2) number of prefetch threads\n",
      "mnopts.featType = 1;               // (1) feature type, 0=binary, 1=linear"
     ],
     "language": "python",
     "metadata": {},
     "outputs": [
      {
       "output_type": "stream",
       "stream": "stderr",
       "text": []
      },
      {
       "output_type": "stream",
       "stream": "stdout",
       "text": []
      },
      {
       "metadata": {},
       "output_type": "pyout",
       "prompt_number": 4,
       "text": [
        "1"
       ]
      }
     ],
     "prompt_number": 4
    },
    {
     "cell_type": "markdown",
     "metadata": {},
     "source": [
      "Next we define the number of kmeans clusters.\n",
      "\n",
      "Autoreset is an option that tells the Learner not to reset GPU memory after training. "
     ]
    },
    {
     "cell_type": "code",
     "collapsed": false,
     "input": [
      "mnopts.autoReset = false            // Dont reset the GPU after the training run, so we can use a GPU model for prediction\n",
      "mnopts.dim = 300                    // Number of kmeans clusters"
     ],
     "language": "python",
     "metadata": {},
     "outputs": [
      {
       "output_type": "stream",
       "stream": "stdout",
       "text": []
      },
      {
       "output_type": "stream",
       "stream": "stderr",
       "text": []
      },
      {
       "metadata": {},
       "output_type": "pyout",
       "prompt_number": 5,
       "text": [
        "300"
       ]
      }
     ],
     "prompt_number": 5
    },
    {
     "cell_type": "markdown",
     "metadata": {},
     "source": [
      "Next we'll create a custom datasource. We need a bit of runtime configuration to ensure that the datasource runs reliably. Because it prefetches files with separate threads, we need to make sure that enough threads are available or it will stall. The <code>threadPool(4)</code> call takes care of this."
     ]
    },
    {
     "cell_type": "code",
     "collapsed": false,
     "input": [
      "val ds = {\n",
      "  implicit val ec = threadPool(4)   // make sure there are enough threads (more than the lookahead count)\n",
      "  new FilesDS(mnopts)              // the datasource\n",
      "}"
     ],
     "language": "python",
     "metadata": {},
     "outputs": [
      {
       "output_type": "stream",
       "stream": "stderr",
       "text": []
      },
      {
       "output_type": "stream",
       "stream": "stdout",
       "text": []
      },
      {
       "metadata": {},
       "output_type": "pyout",
       "prompt_number": 6,
       "text": [
        "BIDMach.datasources.FilesDS@2f1a30ca"
       ]
      }
     ],
     "prompt_number": 6
    },
    {
     "cell_type": "markdown",
     "metadata": {},
     "source": [
      "Next we define the main learner class, which is built up from various \"plug-and-play\" learning modules."
     ]
    },
    {
     "cell_type": "code",
     "collapsed": false,
     "input": [
      "val nn = new Learner(                // make a learner instance\n",
      "    ds,                              // datasource\n",
      "    new KMeans(mnopts),              // the model (a KMeans model)\n",
      "    null,                            // list of mixins or regularizers\n",
      "    new Batch(mnopts),               // the optimization class to use\n",
      "    mnopts)                          // pass the options to the learner as well\n",
      "nn"
     ],
     "language": "python",
     "metadata": {},
     "outputs": [
      {
       "output_type": "stream",
       "stream": "stdout",
       "text": []
      },
      {
       "output_type": "stream",
       "stream": "stderr",
       "text": []
      },
      {
       "metadata": {},
       "output_type": "pyout",
       "prompt_number": 7,
       "text": [
        "Learner(BIDMach.datasources.FilesDS@2f1a30ca,BIDMach.models.KMeans@2490dce9,null,BIDMach.updaters.Batch@229757c0,xopts@121309d4)"
       ]
      }
     ],
     "prompt_number": 7
    },
    {
     "cell_type": "heading",
     "level": 3,
     "metadata": {},
     "source": [
      "Tuning Options"
     ]
    },
    {
     "cell_type": "markdown",
     "metadata": {},
     "source": [
      "The following options are the important ones for tuning. For KMeans, batchSize has no effect on accracy since the algorithm uses all the data instances to perform an update. So you're free to tune it for best speed. Generally larger is better, as long as you dont use too much GPU ram. \n",
      "\n",
      "npasses is the number of passes over the dataset. Larger is typically better, but the model may overfit at some point. "
     ]
    },
    {
     "cell_type": "code",
     "collapsed": false,
     "input": [
      "mnopts.batchSize = 50000\n",
      "mnopts.npasses = 6"
     ],
     "language": "python",
     "metadata": {},
     "outputs": [
      {
       "output_type": "stream",
       "stream": "stdout",
       "text": []
      },
      {
       "output_type": "stream",
       "stream": "stderr",
       "text": []
      },
      {
       "metadata": {},
       "output_type": "pyout",
       "prompt_number": 8,
       "text": [
        "6"
       ]
      }
     ],
     "prompt_number": 8
    },
    {
     "cell_type": "markdown",
     "metadata": {},
     "source": [
      "You invoke the learner the same way as before. You can change the options above after each run to optimize performance. "
     ]
    },
    {
     "cell_type": "code",
     "collapsed": false,
     "input": [
      "nn.train"
     ],
     "language": "python",
     "metadata": {},
     "outputs": [
      {
       "output_type": "stream",
       "stream": "stdout",
       "text": [
        "pass= 0\n"
       ]
      },
      {
       "output_type": "stream",
       "stream": "stdout",
       "text": [
        "First pass random centroid initialization\n",
        " 2.00%, ll=0.000, gf=40.516, secs=0.6, GB=0.20, MB/s=346.76, GPUmem=0.82\n"
       ]
      },
      {
       "output_type": "stream",
       "stream": "stdout",
       "text": [
        " 8.00%, ll=0.000, gf=4.899, secs=9.8, GB=1.53, MB/s=156.26, GPUmem=0.82\n"
       ]
      },
      {
       "output_type": "stream",
       "stream": "stdout",
       "text": [
        "16.00%, ll=0.000, gf=4.119, secs=17.4, GB=2.85, MB/s=163.43, GPUmem=0.82\n"
       ]
      },
      {
       "output_type": "stream",
       "stream": "stdout",
       "text": [
        "21.00%, ll=0.000, gf=3.561, secs=26.9, GB=4.17, MB/s=155.11, GPUmem=0.82\n"
       ]
      },
      {
       "output_type": "stream",
       "stream": "stdout",
       "text": [
        "30.00%, ll=0.000, gf=3.295, secs=36.3, GB=5.50, MB/s=151.21, GPUmem=0.82\n"
       ]
      },
      {
       "output_type": "stream",
       "stream": "stdout",
       "text": [
        "35.00%, ll=0.000, gf=3.111, secs=46.2, GB=6.82, MB/s=147.62, GPUmem=0.82\n"
       ]
      },
      {
       "output_type": "stream",
       "stream": "stdout",
       "text": [
        "43.00%, ll=0.000, gf=3.147, secs=53.3, GB=8.14, MB/s=152.80, GPUmem=0.82\n"
       ]
      },
      {
       "output_type": "stream",
       "stream": "stdout",
       "text": [
        "49.00%, ll=0.000, gf=3.042, secs=63.0, GB=9.46, MB/s=150.24, GPUmem=0.82\n"
       ]
      },
      {
       "output_type": "stream",
       "stream": "stdout",
       "text": [
        "57.00%, ll=0.000, gf=2.981, secs=72.3, GB=10.79, MB/s=149.16, GPUmem=0.82\n"
       ]
      },
      {
       "output_type": "stream",
       "stream": "stdout",
       "text": [
        "63.00%, ll=0.000, gf=2.931, secs=81.7, GB=12.11, MB/s=148.21, GPUmem=0.82\n"
       ]
      },
      {
       "output_type": "stream",
       "stream": "stdout",
       "text": [
        "71.00%, ll=0.000, gf=3.094, secs=85.1, GB=13.43, MB/s=157.76, GPUmem=0.82\n"
       ]
      },
      {
       "output_type": "stream",
       "stream": "stdout",
       "text": [
        "76.00%, ll=0.000, gf=3.299, secs=87.1, GB=14.75, MB/s=169.35, GPUmem=0.82\n"
       ]
      },
      {
       "output_type": "stream",
       "stream": "stdout",
       "text": [
        "85.00%, ll=0.000, gf=3.496, secs=89.1, GB=16.08, MB/s=180.50, GPUmem=0.82\n"
       ]
      },
      {
       "output_type": "stream",
       "stream": "stdout",
       "text": [
        "90.00%, ll=0.000, gf=3.683, secs=91.0, GB=17.40, MB/s=191.12, GPUmem=0.82\n"
       ]
      },
      {
       "output_type": "stream",
       "stream": "stdout",
       "text": [
        "98.00%, ll=0.000, gf=3.863, secs=93.0, GB=18.72, MB/s=201.30, GPUmem=0.82\n",
        "101.00%, ll=0.000, gf=4.088, secs=93.7, GB=19.20, MB/s=204.89, GPUmem=0.82\n",
        "pass= 1\n"
       ]
      },
      {
       "output_type": "stream",
       "stream": "stdout",
       "text": [
        " 2.00%, ll=-1686.767, gf=4.831, secs=94.2, GB=19.44, MB/s=206.48, GPUmem=0.80\n"
       ]
      },
      {
       "output_type": "stream",
       "stream": "stdout",
       "text": [
        " 8.00%, ll=-1684.844, gf=9.880, secs=96.9, GB=20.77, MB/s=214.35, GPUmem=0.80\n"
       ]
      },
      {
       "output_type": "stream",
       "stream": "stdout",
       "text": [
        "16.00%, ll=-1686.606, gf=14.698, secs=99.3, GB=22.09, MB/s=222.47, GPUmem=0.80\n"
       ]
      },
      {
       "output_type": "stream",
       "stream": "stdout",
       "text": [
        "21.00%, ll=-1684.541, gf=19.286, secs=101.7, GB=23.41, MB/s=230.18, GPUmem=0.80\n"
       ]
      },
      {
       "output_type": "stream",
       "stream": "stdout",
       "text": [
        "30.00%, ll=-1686.767, gf=23.657, secs=104.1, GB=24.73, MB/s=237.49, GPUmem=0.80\n"
       ]
      },
      {
       "output_type": "stream",
       "stream": "stdout",
       "text": [
        "35.00%, ll=-1684.844, gf=27.834, secs=106.6, GB=26.06, MB/s=244.52, GPUmem=0.80\n"
       ]
      },
      {
       "output_type": "stream",
       "stream": "stdout",
       "text": [
        "43.00%, ll=-1684.337, gf=31.824, secs=109.0, GB=27.38, MB/s=251.22, GPUmem=0.80\n"
       ]
      },
      {
       "output_type": "stream",
       "stream": "stdout",
       "text": [
        "49.00%, ll=-1688.440, gf=35.642, secs=111.4, GB=28.70, MB/s=257.64, GPUmem=0.80\n"
       ]
      },
      {
       "output_type": "stream",
       "stream": "stdout",
       "text": [
        "57.00%, ll=-1686.767, gf=39.300, secs=113.8, GB=30.02, MB/s=263.81, GPUmem=0.80\n"
       ]
      },
      {
       "output_type": "stream",
       "stream": "stdout",
       "text": [
        "63.00%, ll=-1684.844, gf=42.806, secs=116.2, GB=31.34, MB/s=269.72, GPUmem=0.80\n"
       ]
      },
      {
       "output_type": "stream",
       "stream": "stdout",
       "text": [
        "71.00%, ll=-1685.240, gf=46.171, secs=118.6, GB=32.67, MB/s=275.39, GPUmem=0.80\n"
       ]
      },
      {
       "output_type": "stream",
       "stream": "stdout",
       "text": [
        "76.00%, ll=-1685.281, gf=49.392, secs=121.1, GB=33.99, MB/s=280.78, GPUmem=0.80\n"
       ]
      },
      {
       "output_type": "stream",
       "stream": "stdout",
       "text": [
        "85.00%, ll=-1686.767, gf=52.492, secs=123.5, GB=35.31, MB/s=285.99, GPUmem=0.80\n"
       ]
      },
      {
       "output_type": "stream",
       "stream": "stdout",
       "text": [
        "90.00%, ll=-1684.844, gf=55.351, secs=126.2, GB=36.63, MB/s=290.36, GPUmem=0.80\n"
       ]
      },
      {
       "output_type": "stream",
       "stream": "stdout",
       "text": [
        "98.00%, ll=-1686.636, gf=58.233, secs=128.5, GB=37.96, MB/s=295.28, GPUmem=0.80\n"
       ]
      },
      {
       "output_type": "stream",
       "stream": "stdout",
       "text": [
        "101.00%, ll=-1685.759, gf=59.147, secs=129.4, GB=38.44, MB/s=297.06, GPUmem=0.80\n",
        "pass= 2\n"
       ]
      },
      {
       "output_type": "stream",
       "stream": "stdout",
       "text": [
        " 2.00%, ll=-1342.120, gf=59.288, secs=130.3, GB=38.64, MB/s=296.58, GPUmem=0.80\n"
       ]
      },
      {
       "output_type": "stream",
       "stream": "stdout",
       "text": [
        " 8.00%, ll=-1345.242, gf=61.997, secs=132.7, GB=39.96, MB/s=301.17, GPUmem=0.80\n"
       ]
      },
      {
       "output_type": "stream",
       "stream": "stdout",
       "text": [
        "16.00%, ll=-1344.634, gf=64.612, secs=135.1, GB=41.29, MB/s=305.60, GPUmem=0.80\n"
       ]
      },
      {
       "output_type": "stream",
       "stream": "stdout",
       "text": [
        "21.00%, ll=-1343.200, gf=67.143, secs=137.5, GB=42.61, MB/s=309.92, GPUmem=0.80\n"
       ]
      },
      {
       "output_type": "stream",
       "stream": "stdout",
       "text": [
        "30.00%, ll=-1343.081, gf=69.589, secs=139.9, GB=43.93, MB/s=314.09, GPUmem=0.80\n"
       ]
      },
      {
       "output_type": "stream",
       "stream": "stdout",
       "text": [
        "35.00%, ll=-1343.154, gf=71.948, secs=142.3, GB=45.26, MB/s=318.11, GPUmem=0.80\n"
       ]
      },
      {
       "output_type": "stream",
       "stream": "stdout",
       "text": [
        "43.00%, ll=-1343.195, gf=74.204, secs=144.7, GB=46.58, MB/s=321.88, GPUmem=0.80\n"
       ]
      },
      {
       "output_type": "stream",
       "stream": "stdout",
       "text": [
        "49.00%, ll=-1345.640, gf=76.413, secs=147.1, GB=47.90, MB/s=325.64, GPUmem=0.80\n"
       ]
      },
      {
       "output_type": "stream",
       "stream": "stdout",
       "text": [
        "57.00%, ll=-1344.470, gf=78.547, secs=149.5, GB=49.22, MB/s=329.27, GPUmem=0.80\n"
       ]
      },
      {
       "output_type": "stream",
       "stream": "stdout",
       "text": [
        "63.00%, ll=-1342.412, gf=80.609, secs=151.9, GB=50.55, MB/s=332.76, GPUmem=0.80\n"
       ]
      },
      {
       "output_type": "stream",
       "stream": "stdout",
       "text": [
        "71.00%, ll=-1342.372, gf=82.616, secs=154.3, GB=51.87, MB/s=336.18, GPUmem=0.80\n"
       ]
      },
      {
       "output_type": "stream",
       "stream": "stdout",
       "text": [
        "76.00%, ll=-1343.581, gf=84.563, secs=156.7, GB=53.19, MB/s=339.50, GPUmem=0.80\n"
       ]
      },
      {
       "output_type": "stream",
       "stream": "stdout",
       "text": [
        "85.00%, ll=-1342.996, gf=86.451, secs=159.1, GB=54.51, MB/s=342.72, GPUmem=0.80\n"
       ]
      },
      {
       "output_type": "stream",
       "stream": "stdout",
       "text": [
        "90.00%, ll=-1346.048, gf=88.281, secs=161.5, GB=55.84, MB/s=345.84, GPUmem=0.80\n"
       ]
      },
      {
       "output_type": "stream",
       "stream": "stdout",
       "text": [
        "98.00%, ll=-1344.591, gf=90.063, secs=163.8, GB=57.16, MB/s=348.88, GPUmem=0.80\n"
       ]
      },
      {
       "output_type": "stream",
       "stream": "stdout",
       "text": [
        "101.00%, ll=-1343.219, gf=90.617, secs=164.7, GB=57.64, MB/s=350.01, GPUmem=0.80\n",
        "pass= 3\n"
       ]
      },
      {
       "output_type": "stream",
       "stream": "stdout",
       "text": [
        " 2.00%, ll=-1323.123, gf=90.557, secs=165.6, GB=57.85, MB/s=349.35, GPUmem=0.80\n"
       ]
      },
      {
       "output_type": "stream",
       "stream": "stdout",
       "text": [
        " 8.00%, ll=-1327.061, gf=92.258, secs=168.0, GB=59.17, MB/s=352.25, GPUmem=0.80\n"
       ]
      },
      {
       "output_type": "stream",
       "stream": "stdout",
       "text": [
        "16.00%, ll=-1325.481, gf=93.904, secs=170.4, GB=60.49, MB/s=355.04, GPUmem=0.80\n"
       ]
      },
      {
       "output_type": "stream",
       "stream": "stdout",
       "text": [
        "21.00%, ll=-1324.399, gf=95.503, secs=172.8, GB=61.81, MB/s=357.75, GPUmem=0.80\n"
       ]
      },
      {
       "output_type": "stream",
       "stream": "stdout",
       "text": [
        "30.00%, ll=-1324.260, gf=97.061, secs=175.2, GB=63.14, MB/s=360.40, GPUmem=0.80\n"
       ]
      },
      {
       "output_type": "stream",
       "stream": "stdout",
       "text": [
        "35.00%, ll=-1324.182, gf=98.582, secs=177.6, GB=64.46, MB/s=363.00, GPUmem=0.80\n"
       ]
      },
      {
       "output_type": "stream",
       "stream": "stdout",
       "text": [
        "43.00%, ll=-1323.999, gf=100.061, secs=180.0, GB=65.78, MB/s=365.52, GPUmem=0.80\n"
       ]
      },
      {
       "output_type": "stream",
       "stream": "stdout",
       "text": [
        "49.00%, ll=-1327.052, gf=101.501, secs=182.4, GB=67.10, MB/s=367.97, GPUmem=0.80\n"
       ]
      },
      {
       "output_type": "stream",
       "stream": "stdout",
       "text": [
        "57.00%, ll=-1325.443, gf=102.903, secs=184.8, GB=68.43, MB/s=370.36, GPUmem=0.80\n"
       ]
      },
      {
       "output_type": "stream",
       "stream": "stdout",
       "text": [
        "63.00%, ll=-1323.381, gf=104.273, secs=187.1, GB=69.75, MB/s=372.70, GPUmem=0.80\n"
       ]
      },
      {
       "output_type": "stream",
       "stream": "stdout",
       "text": [
        "71.00%, ll=-1324.345, gf=105.608, secs=189.5, GB=71.07, MB/s=374.98, GPUmem=0.80\n"
       ]
      },
      {
       "output_type": "stream",
       "stream": "stdout",
       "text": [
        "76.00%, ll=-1324.407, gf=106.904, secs=191.9, GB=72.40, MB/s=377.18, GPUmem=0.80\n"
       ]
      },
      {
       "output_type": "stream",
       "stream": "stdout",
       "text": [
        "85.00%, ll=-1324.043, gf=108.162, secs=194.3, GB=73.72, MB/s=379.31, GPUmem=0.80\n"
       ]
      },
      {
       "output_type": "stream",
       "stream": "stdout",
       "text": [
        "90.00%, ll=-1327.506, gf=109.387, secs=196.8, GB=75.04, MB/s=381.38, GPUmem=0.80\n"
       ]
      },
      {
       "output_type": "stream",
       "stream": "stdout",
       "text": [
        "98.00%, ll=-1325.634, gf=110.584, secs=199.2, GB=76.36, MB/s=383.40, GPUmem=0.80\n"
       ]
      },
      {
       "output_type": "stream",
       "stream": "stdout",
       "text": [
        "101.00%, ll=-1324.479, gf=110.947, secs=200.0, GB=76.84, MB/s=384.16, GPUmem=0.80\n",
        "pass= 4\n"
       ]
      },
      {
       "output_type": "stream",
       "stream": "stdout",
       "text": [
        " 2.00%, ll=-1316.496, gf=110.811, secs=200.9, GB=77.05, MB/s=383.48, GPUmem=0.80\n"
       ]
      },
      {
       "output_type": "stream",
       "stream": "stdout",
       "text": [
        " 8.00%, ll=-1320.612, gf=111.989, secs=203.3, GB=78.37, MB/s=385.51, GPUmem=0.80\n"
       ]
      },
      {
       "output_type": "stream",
       "stream": "stdout",
       "text": [
        "16.00%, ll=-1318.670, gf=113.142, secs=205.7, GB=79.70, MB/s=387.50, GPUmem=0.80\n"
       ]
      },
      {
       "output_type": "stream",
       "stream": "stdout",
       "text": [
        "21.00%, ll=-1317.674, gf=114.270, secs=208.0, GB=81.02, MB/s=389.46, GPUmem=0.80\n"
       ]
      },
      {
       "output_type": "stream",
       "stream": "stdout",
       "text": [
        "30.00%, ll=-1317.543, gf=115.373, secs=210.4, GB=82.34, MB/s=391.37, GPUmem=0.80\n"
       ]
      },
      {
       "output_type": "stream",
       "stream": "stdout",
       "text": [
        "35.00%, ll=-1317.352, gf=116.449, secs=212.8, GB=83.66, MB/s=393.23, GPUmem=0.80\n"
       ]
      },
      {
       "output_type": "stream",
       "stream": "stdout",
       "text": [
        "43.00%, ll=-1317.022, gf=117.510, secs=215.1, GB=84.99, MB/s=395.08, GPUmem=0.80\n"
       ]
      },
      {
       "output_type": "stream",
       "stream": "stdout",
       "text": [
        "49.00%, ll=-1320.379, gf=118.539, secs=217.5, GB=86.31, MB/s=396.85, GPUmem=0.80\n"
       ]
      },
      {
       "output_type": "stream",
       "stream": "stdout",
       "text": [
        "57.00%, ll=-1318.723, gf=119.553, secs=219.8, GB=87.63, MB/s=398.62, GPUmem=0.80\n"
       ]
      },
      {
       "output_type": "stream",
       "stream": "stdout",
       "text": [
        "63.00%, ll=-1316.569, gf=120.543, secs=222.2, GB=88.95, MB/s=400.33, GPUmem=0.80\n"
       ]
      },
      {
       "output_type": "stream",
       "stream": "stdout",
       "text": [
        "71.00%, ll=-1317.790, gf=121.513, secs=224.6, GB=90.28, MB/s=402.02, GPUmem=0.80\n"
       ]
      },
      {
       "output_type": "stream",
       "stream": "stdout",
       "text": [
        "76.00%, ll=-1317.617, gf=122.462, secs=226.9, GB=91.60, MB/s=403.67, GPUmem=0.80\n"
       ]
      },
      {
       "output_type": "stream",
       "stream": "stdout",
       "text": [
        "85.00%, ll=-1317.276, gf=123.389, secs=229.3, GB=92.92, MB/s=405.27, GPUmem=0.80\n"
       ]
      },
      {
       "output_type": "stream",
       "stream": "stdout",
       "text": [
        "90.00%, ll=-1320.886, gf=124.300, secs=231.6, GB=94.24, MB/s=406.86, GPUmem=0.80\n"
       ]
      },
      {
       "output_type": "stream",
       "stream": "stdout",
       "text": [
        "98.00%, ll=-1318.921, gf=125.191, secs=234.0, GB=95.57, MB/s=408.40, GPUmem=0.80\n"
       ]
      },
      {
       "output_type": "stream",
       "stream": "stdout",
       "text": [
        "101.00%, ll=-1317.791, gf=125.456, secs=234.8, GB=96.05, MB/s=408.99, GPUmem=0.80\n",
        "pass= 5\n"
       ]
      },
      {
       "output_type": "stream",
       "stream": "stdout",
       "text": [
        " 2.00%, ll=-1313.253, gf=125.283, secs=235.7, GB=96.25, MB/s=408.30, GPUmem=0.80\n"
       ]
      },
      {
       "output_type": "stream",
       "stream": "stdout",
       "text": [
        " 8.00%, ll=-1317.315, gf=126.153, secs=238.1, GB=97.58, MB/s=409.82, GPUmem=0.80\n"
       ]
      },
      {
       "output_type": "stream",
       "stream": "stdout",
       "text": [
        "16.00%, ll=-1315.258, gf=127.005, secs=240.5, GB=98.90, MB/s=411.30, GPUmem=0.80\n"
       ]
      },
      {
       "output_type": "stream",
       "stream": "stdout",
       "text": [
        "21.00%, ll=-1314.226, gf=127.839, secs=242.8, GB=100.22, MB/s=412.75, GPUmem=0.80\n"
       ]
      },
      {
       "output_type": "stream",
       "stream": "stdout",
       "text": [
        "30.00%, ll=-1314.182, gf=128.647, secs=245.2, GB=101.54, MB/s=414.14, GPUmem=0.80\n"
       ]
      },
      {
       "output_type": "stream",
       "stream": "stdout",
       "text": [
        "35.00%, ll=-1313.863, gf=129.448, secs=247.6, GB=102.87, MB/s=415.53, GPUmem=0.80\n"
       ]
      },
      {
       "output_type": "stream",
       "stream": "stdout",
       "text": [
        "43.00%, ll=-1313.465, gf=130.233, secs=249.9, GB=104.19, MB/s=416.89, GPUmem=0.80\n"
       ]
      },
      {
       "output_type": "stream",
       "stream": "stdout",
       "text": [
        "49.00%, ll=-1316.939, gf=131.001, secs=252.3, GB=105.51, MB/s=418.22, GPUmem=0.80\n"
       ]
      },
      {
       "output_type": "stream",
       "stream": "stdout",
       "text": [
        "57.00%, ll=-1315.367, gf=131.742, secs=254.7, GB=106.83, MB/s=419.49, GPUmem=0.80\n"
       ]
      },
      {
       "output_type": "stream",
       "stream": "stdout",
       "text": [
        "63.00%, ll=-1313.123, gf=132.475, secs=257.1, GB=108.16, MB/s=420.74, GPUmem=0.80\n"
       ]
      },
      {
       "output_type": "stream",
       "stream": "stdout",
       "text": [
        "71.00%, ll=-1314.393, gf=133.205, secs=259.4, GB=109.48, MB/s=422.01, GPUmem=0.80\n"
       ]
      },
      {
       "output_type": "stream",
       "stream": "stdout",
       "text": [
        "76.00%, ll=-1314.105, gf=133.923, secs=261.8, GB=110.80, MB/s=423.26, GPUmem=0.80\n"
       ]
      },
      {
       "output_type": "stream",
       "stream": "stdout",
       "text": [
        "85.00%, ll=-1313.875, gf=134.628, secs=264.1, GB=112.13, MB/s=424.49, GPUmem=0.80\n"
       ]
      },
      {
       "output_type": "stream",
       "stream": "stdout",
       "text": [
        "90.00%, ll=-1317.549, gf=135.324, secs=266.5, GB=113.45, MB/s=425.71, GPUmem=0.80\n"
       ]
      },
      {
       "output_type": "stream",
       "stream": "stdout",
       "text": [
        "98.00%, ll=-1315.502, gf=136.003, secs=268.9, GB=114.77, MB/s=426.89, GPUmem=0.80\n"
       ]
      },
      {
       "output_type": "stream",
       "stream": "stdout",
       "text": [
        "101.00%, ll=-1314.412, gf=136.201, secs=269.7, GB=115.25, MB/s=427.34, GPUmem=0.80\n",
        "Time=269.6960 secs, gflops=136.20\n"
       ]
      },
      {
       "output_type": "stream",
       "stream": "stderr",
       "text": []
      }
     ],
     "prompt_number": 9
    },
    {
     "cell_type": "markdown",
     "metadata": {},
     "source": [
      "Now lets extract the model as a Floating-point matrix. We included the category features for clustering to make sure that each cluster is a subset of images for one digit. "
     ]
    },
    {
     "cell_type": "code",
     "collapsed": false,
     "input": [
      "val model=FMat(nn.modelmat)"
     ],
     "language": "python",
     "metadata": {},
     "outputs": [
      {
       "output_type": "stream",
       "stream": "stdout",
       "text": []
      },
      {
       "output_type": "stream",
       "stream": "stderr",
       "text": []
      },
      {
       "metadata": {},
       "output_type": "pyout",
       "prompt_number": 10,
       "text": [
        "      0      0      0      0  10000      0      0      0      0      0      0      0      0...\n",
        "      0      0      0      0      0      0  10000      0      0      0      0      0      0...\n",
        "      0      0  10000      0      0      0      0      0      0      0      0      0      0...\n",
        "      0      0      0      0      0  10000      0      0      0      0      0      0      0...\n",
        "      0      0  10000      0      0      0      0      0      0      0      0      0      0...\n",
        "      0      0      0      0      0      0  10000      0      0      0      0      0      0...\n",
        "     ..     ..     ..     ..     ..     ..     ..     ..     ..     ..     ..     ..     ..\n"
       ]
      }
     ],
     "prompt_number": 10
    },
    {
     "cell_type": "markdown",
     "metadata": {},
     "source": [
      "Next we build a 30 x 10 array of images to view the first 300 cluster centers as images."
     ]
    },
    {
     "cell_type": "code",
     "collapsed": false,
     "input": [
      "val nx = 30\n",
      "val ny = 10\n",
      "val im = zeros(28,28)\n",
      "val allim = zeros(28*nx,28*ny)\n",
      "for (i<-0 until nx) {\n",
      "    for (j<-0 until ny) {\n",
      "        val slice = model(i+nx*j,10->794)\n",
      "        im(?) = slice(?)\n",
      "        allim((28*i)->(28*(i+1)), (28*j)->(28*(j+1))) = im\n",
      "    }\n",
      "}\n",
      "Image.show(allim kron ones(2,2))"
     ],
     "language": "python",
     "metadata": {},
     "outputs": [
      {
       "output_type": "stream",
       "stream": "stdout",
       "text": []
      },
      {
       "output_type": "stream",
       "stream": "stderr",
       "text": []
      },
      {
       "metadata": {},
       "output_type": "pyout",
       "prompt_number": 11,
       "text": [
        "javax.swing.JFrame[frame0,0,0,1680x560,layout=java.awt.BorderLayout,title=Image 0,resizable,normal,defaultCloseOperation=HIDE_ON_CLOSE,rootPane=javax.swing.JRootPane[,0,0,1680x560,layout=javax.swing.JRootPane$RootLayout,alignmentX=0.0,alignmentY=0.0,border=,flags=16777673,maximumSize=,minimumSize=,preferredSize=],rootPaneCheckingEnabled=true]"
       ]
      }
     ],
     "prompt_number": 11
    },
    {
     "cell_type": "markdown",
     "metadata": {},
     "source": [
      "We'll predict using the closest cluster (or 1-NN if you like). The classify function below takes a block of data (which includes the labels in rows 0->10), and predicts using the other features. It then stacks the predicted and actual categories in a <code>2*k</code> matrix, where k is the number of samples."
     ]
    },
    {
     "cell_type": "code",
     "collapsed": false,
     "input": [
      "val datamodel = model(?, 10->794)\n",
      "val catmodel = model(?, 0->10)\n",
      "val (vcat, icat) = maxi2(catmodel,2)\n",
      "val mdot = (datamodel \u2219\u2192 datamodel)\n",
      "\n",
      "def classify(a:FMat):IMat = {\n",
      "    val cdata = a(0->10, ?);\n",
      "    val (vm, im) = maxi2(cdata);\n",
      "    val ddata = a(10->794, ?);\n",
      "    val dists = -2 *(datamodel * ddata) + (ddata \u2219 ddata) + mdot;\n",
      "    val (vdist, idist) = mini2(dists);\n",
      "    icat(idist) on im\n",
      "}\n"
     ],
     "language": "python",
     "metadata": {},
     "outputs": [
      {
       "output_type": "stream",
       "stream": "stdout",
       "text": []
      },
      {
       "output_type": "stream",
       "stream": "stderr",
       "text": []
      }
     ],
     "prompt_number": 12
    },
    {
     "cell_type": "markdown",
     "metadata": {},
     "source": [
      "The cmatch function takes the actual and predicted categories and constructs a 10x10 **confusion matrix** from them. The confusion matrix element c(i,j) is the count of inputs that were predicted to be in category i, but are actually in category j. Its basically just a call to the accum function."
     ]
    },
    {
     "cell_type": "code",
     "collapsed": false,
     "input": [
      "def cmatch(crows:IMat):DMat = {\n",
      "    accum(crows.t, 1.0, 10, 10)\n",
      "}"
     ],
     "language": "python",
     "metadata": {},
     "outputs": [
      {
       "output_type": "stream",
       "stream": "stdout",
       "text": []
      },
      {
       "output_type": "stream",
       "stream": "stderr",
       "text": []
      }
     ],
     "prompt_number": 13
    },
    {
     "cell_type": "markdown",
     "metadata": {},
     "source": [
      "To evaluate, we'll run the classification on the remainder of the data source (files 71 to 80 which we didnt read yet). "
     ]
    },
    {
     "cell_type": "code",
     "collapsed": false,
     "input": [
      "ds.nstart=80\n",
      "mnopts.nend=81\n",
      "ds.reset"
     ],
     "language": "python",
     "metadata": {},
     "outputs": [
      {
       "output_type": "stream",
       "stream": "stderr",
       "text": []
      },
      {
       "output_type": "stream",
       "stream": "stdout",
       "text": []
      }
     ],
     "prompt_number": 14
    },
    {
     "cell_type": "markdown",
     "metadata": {},
     "source": [
      "This code draws minibatches from the datasource, computes predictions from them, and then adds the corresponding counts to the confusion matrix <code>acc</code>."
     ]
    },
    {
     "cell_type": "code",
     "collapsed": false,
     "input": [
      "var k = 0\n",
      "val acc = dzeros(10,10)\n",
      "while (ds.hasNext) {\n",
      "    val mats=ds.next\n",
      "    val f=FMat(mats(0))\n",
      "    acc ~ acc + cmatch(classify(f))\n",
      "    k += 1\n",
      "    print(\".\")\n",
      "}"
     ],
     "language": "python",
     "metadata": {},
     "outputs": [
      {
       "output_type": "stream",
       "stream": "stdout",
       "text": [
        "."
       ]
      },
      {
       "output_type": "stream",
       "stream": "stdout",
       "text": [
        "."
       ]
      },
      {
       "output_type": "stream",
       "stream": "stderr",
       "text": []
      }
     ],
     "prompt_number": 15
    },
    {
     "cell_type": "markdown",
     "metadata": {},
     "source": [
      "Once we have the confusion counts, we can normalize the matrix of counts to produce a matrix sacc which is the fraction of samples with actual label j that are classified as i. \n",
      "\n",
      "Its common to show this matrix as a 2D gray-scale or false-color plot with white as 1.00 and black as 0.0. "
     ]
    },
    {
     "cell_type": "code",
     "collapsed": false,
     "input": [
      "val sacc = FMat(acc/sum(acc))\n",
      "Image.show((sacc * 250f) \u2297 ones(64,64))\n",
      "sacc"
     ],
     "language": "python",
     "metadata": {},
     "outputs": [
      {
       "output_type": "stream",
       "stream": "stderr",
       "text": []
      },
      {
       "output_type": "stream",
       "stream": "stdout",
       "text": []
      },
      {
       "metadata": {},
       "output_type": "pyout",
       "prompt_number": 16,
       "text": [
        "     0.95605  0.00017852    0.010013   0.0018653   0.0026697   0.0098158    0.012772...\n",
        "  0.00071052     0.98857    0.010914   0.0073630    0.019612   0.0056248   0.0066903...\n",
        "   0.0057856   0.0033027     0.93141    0.015413   0.0079064   0.0059557   0.0063862...\n",
        "   0.0024361   0.0014282   0.0084109     0.90585  0.00020536    0.050072   0.0011151...\n",
        "  0.00081202   0.0017852   0.0033043  0.00088357     0.85050   0.0019852   0.0018246...\n",
        "   0.0071052  0.00035705   0.0016021    0.024249  0.00030804     0.86379   0.0080081...\n",
        "          ..          ..          ..          ..          ..          ..          ..\n"
       ]
      }
     ],
     "prompt_number": 16
    },
    {
     "cell_type": "markdown",
     "metadata": {},
     "source": [
      "Its useful to isolate the correct classification rate by digit, which is:"
     ]
    },
    {
     "cell_type": "code",
     "collapsed": false,
     "input": [
      "val dacc = getdiag(sacc).t"
     ],
     "language": "python",
     "metadata": {},
     "outputs": [
      {
       "output_type": "stream",
       "stream": "stderr",
       "text": []
      },
      {
       "output_type": "stream",
       "stream": "stdout",
       "text": []
      },
      {
       "metadata": {},
       "output_type": "pyout",
       "prompt_number": 17,
       "text": [
        "0.95605,0.98857,0.93141,0.90585,0.85050,0.86379,0.95854,0.89671,0.86258,0.84591"
       ]
      }
     ],
     "prompt_number": 17
    },
    {
     "cell_type": "markdown",
     "metadata": {},
     "source": [
      "We can take the mean of the diagonal accuracies to get an overall accuracy for this model. "
     ]
    },
    {
     "cell_type": "code",
     "collapsed": false,
     "input": [
      "mean(dacc)"
     ],
     "language": "python",
     "metadata": {},
     "outputs": [
      {
       "output_type": "stream",
       "stream": "stderr",
       "text": []
      },
      {
       "output_type": "stream",
       "stream": "stdout",
       "text": []
      },
      {
       "metadata": {},
       "output_type": "pyout",
       "prompt_number": 18,
       "text": [
        "0.90599"
       ]
      }
     ],
     "prompt_number": 18
    },
    {
     "cell_type": "markdown",
     "metadata": {},
     "source": [
      "Run the experiment again with a larger number of clusters (3000, then 30000). You should reduce the batchSize option to 20000 to avoid memory problems.\n",
      "\n",
      "Include the training time output by the call to <code>nn.train</code> but not the evaluation time (the evaluation code above is not using the GPU). Rerun and fill out the table below: \n",
      "\n",
      "<table>\n",
      "<tr>\n",
      "<th>KMeans Clusters</th>\n",
      "<th>Training time</th>\n",
      "<th>Avg. gflops</th>\n",
      "<th>Accuracy</th>\n",
      "</tr>\n",
      "<tr>\n",
      "<td>300</td>\n",
      "<td>...</td>\n",
      "<td>...</td>\n",
      "<td>...</td>\n",
      "</tr>\n",
      "<tr>\n",
      "<td>3000</td>\n",
      "<td>...</td>\n",
      "<td>...</td>\n",
      "<td>...</td>\n",
      "</tr>\n",
      "<tr>\n",
      "<td>30000</td>\n",
      "<td>...</td>\n",
      "<td>...</td>\n",
      "<td>...</td>\n",
      "</tr>\n",
      "</table>"
     ]
    },
    {
     "cell_type": "code",
     "collapsed": false,
     "input": [],
     "language": "python",
     "metadata": {},
     "outputs": []
    }
   ],
   "metadata": {}
  }
 ]
}